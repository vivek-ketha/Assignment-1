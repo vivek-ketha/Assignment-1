{
 "cells": [
  {
   "cell_type": "markdown",
   "id": "0c701b0d",
   "metadata": {},
   "source": [
    "# 1.\n",
    "In the below elements which of them are values or an expression? eg:- values can be integer or string and expressions will be mathematical operators.\n",
    "*\n",
    "&#39;hello&#39;\n",
    "-87.8\n",
    "-\n",
    "/\n",
    "+\n",
    "6\n",
    "\n",
    "# Answer: \n",
    "\n",
    "-, / ,+,6\n",
    "\n"
   ]
  },
  {
   "cell_type": "markdown",
   "id": "19aa9a7f",
   "metadata": {},
   "source": [
    "# 2.\n",
    "What is the difference between string and variable?\n",
    "\n",
    "# Answer: \n",
    "\n",
    "A variable can store everything from strings to numbers. A string is the values inside the quotes assigned to a string.\n",
    "\n"
   ]
  },
  {
   "cell_type": "markdown",
   "id": "5bacb6ae",
   "metadata": {},
   "source": [
    "# 3.\n",
    "Describe three different data types.\n",
    "\n",
    "# Answer: \n",
    "\n",
    "1. String: A string is a collection of one or more characters put in a single quote, double-quote or triple quote.\n",
    "2.Dictionary: Dictionary can be created by placing a sequence of elements within curly {} braces, separated by comma. Values in a dictionary can be of any datatype and can be duplicated, whereas keys can’t be repeated and must be immutable.\n",
    "3.Tuple:  Tuple is an ordered collection of Python objects. The only difference between tuple and list is that tuples are immutable i.e. tuples cannot be modified after it is created.\n",
    "\n"
   ]
  },
  {
   "cell_type": "markdown",
   "id": "f835dff7",
   "metadata": {},
   "source": [
    "# 4.\n",
    "What is an expression made up of? What do all expressions do?\n",
    "\n",
    "# Answer:\n",
    "\n",
    "An expression is a combination of values, variables, operators, and calls to functions. Expressions need to be evaluated. If you ask Python to print an expression, the interpreter evaluates the expression and displays the result.\n"
   ]
  },
  {
   "cell_type": "markdown",
   "id": "fe9ee6cf",
   "metadata": {},
   "source": [
    "# 5.\n",
    "This assignment statements, like spam = 10. What is the difference between an expression and a statement?\n",
    "\n",
    "# Answer:\n",
    "\n",
    "Expression is made up of values, containers, and mathematical operators (operands) and the statement is just like a command that a python interpreter executes like print.\n"
   ]
  },
  {
   "cell_type": "markdown",
   "id": "41ec18cc",
   "metadata": {},
   "source": [
    "# 6.\n",
    "After running the following code, what does the variable bacon contain?\n",
    "bacon = 22\n",
    "bacon + 1\n",
    "\n",
    "# Answer: \n",
    "\n",
    "23"
   ]
  },
  {
   "cell_type": "markdown",
   "id": "3789f414",
   "metadata": {},
   "source": [
    "# 7.\n",
    "What should the values of the following two terms be?\n",
    "'spam'+ 'spamspam'\n",
    "'spam'*3\n",
    "\n",
    "\n",
    "# Answer:\n",
    "'spamspamspam'\n",
    "\n",
    "'spamspamspam'\n"
   ]
  },
  {
   "cell_type": "markdown",
   "id": "62632b32",
   "metadata": {},
   "source": [
    "# 8.\n",
    "Why is eggs a valid variable name while 100 is invalid?\n",
    "\n",
    "# Answer:\n",
    "\n",
    "Because variable names cannot begin with numbers"
   ]
  },
  {
   "cell_type": "markdown",
   "id": "ec910755",
   "metadata": {},
   "source": [
    "# 9.\n",
    "What three functions can be used to get the integer, floating-point number, or string\n",
    "version of a value?\n",
    "\n",
    "# Answers:\n",
    "\n",
    "The int() , float() , and str( ) functions will evaluate to the integer, floating-point number, and string versions of the value passed to them."
   ]
  },
  {
   "cell_type": "markdown",
   "id": "c2ae24d3",
   "metadata": {},
   "source": [
    "# 10. \n",
    "Why does this expression cause an error? How can you fix it?\n",
    "'I have eaten'  + 99 + 'burritos'\n",
    "\n",
    "# Answers:\n",
    "\n",
    "The expression causes an error because 99 is an integer, and only strings can be concatenated to other strings with the + operator. The correct way is I have eaten ' + str(99) + ' burritos."
   ]
  }
 ],
 "metadata": {
  "kernelspec": {
   "display_name": "Python 3",
   "language": "python",
   "name": "python3"
  },
  "language_info": {
   "codemirror_mode": {
    "name": "ipython",
    "version": 3
   },
   "file_extension": ".py",
   "mimetype": "text/x-python",
   "name": "python",
   "nbconvert_exporter": "python",
   "pygments_lexer": "ipython3",
   "version": "3.8.8"
  }
 },
 "nbformat": 4,
 "nbformat_minor": 5
}
